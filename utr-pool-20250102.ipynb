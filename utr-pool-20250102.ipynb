{
 "cells": [
  {
   "cell_type": "code",
   "execution_count": 13,
   "metadata": {
    "vscode": {
     "languageId": "shellscript"
    }
   },
   "outputs": [],
   "source": [
    "import gzip\n",
    "from glob import glob\n",
    "import os\n",
    "import pandas as pd\n",
    "from collections import Counter\n",
    "\n",
    "# Load the reference sequences (positions 16-45)\n",
    "def load_references(reference_seq_file):\n",
    "    refs = {}\n",
    "    with open(reference_seq_file, 'r') as f:\n",
    "        for line1 in f:\n",
    "            line2 = f.readline()\n",
    "            refs[line2[15:45]] = line1.strip()[1:]  # Extract positions 16-45\n",
    "    return refs\n",
    "\n",
    "\n",
    "def count_all_in_fastq(fastq_gz_file,start,end):\n",
    "    # count all unique sequences in each fastq file\n",
    "    # skipping the begining and end of each read\n",
    "    counts={}\n",
    "    with gzip.open(fastq_gz_file, 'rb') as f:\n",
    "        line_nb = 0\n",
    "        for line in f:\n",
    "            line_nb = line_nb + 1\n",
    "            if(line_nb % 4 == 2):\n",
    "                seq = line.decode().strip()\n",
    "                if (not ('N' in seq)) and len(seq) > end: # read long enough, does not contain N\n",
    "                    seq = seq[start:end]\n",
    "                    if not seq in counts:\n",
    "                        counts[seq] = 1\n",
    "                    else:\n",
    "                        counts[seq] = counts[seq] + 1\n",
    "    return counts\n",
    "\n",
    "def count_ref_in_fastq(fastq_gz_file,start,end,refs):\n",
    "    # count only reference sequence in each fastq file\n",
    "    # skipping the begining and end of each read\n",
    "    counts={}\n",
    "    for seq in refs:\n",
    "        counts[seq] = 0\n",
    "    # total number of reads in the file\n",
    "    total_read_count = 0\n",
    "    # number of matched reads in the file\n",
    "    match_read_count = 0 \n",
    "    with gzip.open(fastq_gz_file, 'rb') as f:\n",
    "        line_nb = 0\n",
    "        for line in f:\n",
    "            line_nb = line_nb + 1\n",
    "            if(line_nb % 4 == 2):\n",
    "                total_read_count = total_read_count + 1\n",
    "                seq = line.decode().strip()[start:end]\n",
    "                if seq in counts:\n",
    "                    counts[seq] = counts[seq] + 1\n",
    "                    match_read_count = match_read_count + 1\n",
    "    return total_read_count,match_read_count,counts"
   ]
  },
  {
   "cell_type": "code",
   "execution_count": 14,
   "metadata": {
    "vscode": {
     "languageId": "shellscript"
    }
   },
   "outputs": [
    {
     "name": "stdout",
     "output_type": "stream",
     "text": [
      "hek-gDNA1 | File: hek-gDNA1_R1.fastq.gz | Total Reads: 40799299 | Matched Reads: 39921979 | Match Ratio: 97.85%\n",
      "hek-gDNA2 | File: hek-gDNA2_R1.fastq.gz | Total Reads: 36674142 | Matched Reads: 35866908 | Match Ratio: 97.80%\n",
      "hek-gDNA3 | File: hek-gDNA3_R1.fastq.gz | Total Reads: 43857872 | Matched Reads: 42936728 | Match Ratio: 97.90%\n",
      "hek-RNA1 | File: hek-RNA1_R1.fastq.gz | Total Reads: 38185731 | Matched Reads: 37116723 | Match Ratio: 97.20%\n",
      "hek-RNA2 | File: hek-RNA2_R1.fastq.gz | Total Reads: 36325027 | Matched Reads: 35320056 | Match Ratio: 97.23%\n",
      "hek-RNA3 | File: hek-RNA3_R1.fastq.gz | Total Reads: 35708490 | Matched Reads: 34556538 | Match Ratio: 96.77%\n",
      "sk-gDNA1 | File: sk-gDNA1_R1.fastq.gz | Total Reads: 42869191 | Matched Reads: 41763799 | Match Ratio: 97.42%\n",
      "sk-gDNA2 | File: sk-gDNA2_R1.fastq.gz | Total Reads: 35818273 | Matched Reads: 34932492 | Match Ratio: 97.53%\n",
      "sk-gDNA3 | File: sk-gDNA3_R1.fastq.gz | Total Reads: 43676344 | Matched Reads: 41427481 | Match Ratio: 94.85%\n",
      "sk-RNA1 | File: sk-RNA1_R1.fastq.gz | Total Reads: 50133635 | Matched Reads: 42259965 | Match Ratio: 84.29%\n",
      "sk-RNA2 | File: sk-RNA2_R1.fastq.gz | Total Reads: 50604213 | Matched Reads: 40064193 | Match Ratio: 79.17%\n",
      "sk-RNA3 | File: sk-RNA3_R1.fastq.gz | Total Reads: 50891556 | Matched Reads: 43252364 | Match Ratio: 84.99%\n",
      "aso-lib1 | File: aso-lib1_R1.fastq.gz | Total Reads: 53511121 | Matched Reads: 49821934 | Match Ratio: 93.11%\n",
      "aso-lib2 | File: aso-lib2_R1.fastq.gz | Total Reads: 52214255 | Matched Reads: 45155656 | Match Ratio: 86.48%\n",
      "Results saved to counts-aso.csv\n"
     ]
    }
   ],
   "source": [
    "from glob import glob\n",
    "import os\n",
    "import pandas as pd\n",
    "from collections import Counter\n",
    "\n",
    "# Function to process all samples (single-end files only)\n",
    "def process_samples(folder, refs, output_csv, start=0, end=30):\n",
    "    # Initialize the output table with reference sequences\n",
    "    counts_df = pd.DataFrame({'Seq': list(refs.keys()), 'Name': list(refs.values())})\n",
    "\n",
    "    # Iterate through cell types and replicates\n",
    "    for cell in ['hek-gDNA', 'hek-RNA', 'sk-gDNA', 'sk-RNA', 'aso-lib']:\n",
    "        for rep in ['1', '2', '3']:  # Iterate over replicates\n",
    "            # File matching for R1 files\n",
    "            sample_r1_files = glob(os.path.join(folder, f\"{cell}{rep}_R1.fastq.gz\"))\n",
    "\n",
    "            # Check if R1 files exist\n",
    "            if sample_r1_files:\n",
    "                # Accumulate counts for all FASTQ files for the current sample\n",
    "                sample_counts = Counter()\n",
    "                total_reads = 0\n",
    "                matched_reads = 0\n",
    "\n",
    "                for file in sample_r1_files:\n",
    "                    total, matched, cts = count_ref_in_fastq(file, start, end, refs)\n",
    "                    total_reads += total\n",
    "                    matched_reads += matched\n",
    "                    sample_counts.update(cts)\n",
    "\n",
    "                    print(f\"{cell}{rep} | File: {os.path.basename(file)} | Total Reads: {total} | \"\n",
    "                          f\"Matched Reads: {matched} | Match Ratio: {matched / total:.2%}\")\n",
    "\n",
    "                # Update counts for the current sample in the DataFrame\n",
    "                counts_df[f\"{cell}{rep}\"] = counts_df['Seq'].map(sample_counts).fillna(0).astype(int)\n",
    "\n",
    "    # Save the counts to a CSV file\n",
    "    counts_df.to_csv(output_csv, index=False)\n",
    "    print(f\"Results saved to {output_csv}\")\n",
    "\n",
    "# Paths and parameters\n",
    "reference_seq_file = '/home/yg2895/media/protein/yg2895/ASO-lib-20250102/haplo-utr3-oligo-pool.fa'\n",
    "fastq_folder = '/home/yg2895/media/protein/sequencing_data2/20250102_AV100007_20250102-aso-lib-gy/fastq'\n",
    "output_csv = 'counts-aso.csv'\n",
    "\n",
    "# Load references and process samples\n",
    "refs = load_references(reference_seq_file)\n",
    "process_samples(fastq_folder, refs, output_csv)\n",
    "\n"
   ]
  },
  {
   "cell_type": "code",
   "execution_count": null,
   "metadata": {
    "vscode": {
     "languageId": "shellscript"
    }
   },
   "outputs": [],
   "source": []
  }
 ],
 "metadata": {
  "kernelspec": {
   "display_name": "python",
   "language": "python",
   "name": "python3"
  },
  "language_info": {
   "codemirror_mode": {
    "name": "ipython",
    "version": 3
   },
   "file_extension": ".py",
   "mimetype": "text/x-python",
   "name": "python",
   "nbconvert_exporter": "python",
   "pygments_lexer": "ipython3",
   "version": "3.12.0"
  }
 },
 "nbformat": 4,
 "nbformat_minor": 2
}
