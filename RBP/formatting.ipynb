{
 "cells": [
  {
   "cell_type": "code",
   "execution_count": 35,
   "metadata": {},
   "outputs": [
    {
     "name": "stdout",
     "output_type": "stream",
     "text": [
      "Index(['A1CF', 'BOLL', 'CELF1', 'CNOT4', 'CPEB1', 'DAZ3', 'DAZAP1', 'EIF4G2',\n",
      "       'ELAVL4', 'ESRP1', 'EWSR1', 'FUBP1', 'FUBP3', 'FUS', 'HNRNPA0',\n",
      "       'HNRNPA2B1', 'HNRNPC', 'HNRNPCL1', 'HNRNPD', 'HNRNPDL', 'HNRNPF',\n",
      "       'HNRNPH2', 'HNRNPK', 'HNRNPL', 'IGF2BP1', 'IGF2BP2', 'ILF2', 'KHDRBS2',\n",
      "       'KHDRBS3', 'KHSRP', 'MBNL1', 'MSI1', 'NOVA1', 'NUPL2', 'PABPN1L',\n",
      "       'PCBP1', 'PCBP2', 'PCBP4', 'PRR3', 'PTBP3', 'PUF60', 'PUM1', 'RALY',\n",
      "       'RBFOX2', 'RBFOX3', 'RBM15B', 'RBM22', 'RBM23', 'RBM24', 'RBM25',\n",
      "       'RBM4', 'RBM41', 'RBM45', 'RBM47', 'RBM4B', 'RBM6', 'RBMS2', 'RBMS3',\n",
      "       'RC3H1', 'SF1', 'SFPQ', 'SNRPA', 'SRSF10', 'SRSF11', 'SRSF2', 'SRSF4',\n",
      "       'SRSF5', 'SRSF8', 'SRSF9', 'TAF15', 'TARDBP', 'TIA1', 'TRA2A',\n",
      "       'TRNAU1AP', 'UNK', 'ZCRB1', 'ZFP36', 'ZNF326', 'Unnamed: 156'],\n",
      "      dtype='object')\n"
     ]
    }
   ],
   "source": [
    "import pandas as pd\n",
    "\n",
    "# Load the CSV file\n",
    "df = pd.read_csv(\"RBP_6kmer.csv\", sep=\",\")  # Adjust filename if needed\n",
    "\n",
    "# Drop empty rows\n",
    "df = df.dropna(how=\"all\")  # Removes rows where all values are NaN\n",
    "\n",
    "# Identify motif name columns (every second column) and score columns\n",
    "motif_names = df.columns[0::2]  # Extract motif columns (e.g., \"BOLL\", \"CELF1\")\n",
    "score_columns = df.columns[1::2]  # Extract corresponding score columns (e.g., \"Unnamed: 1\")\n",
    "\n",
    "# print(df)\n",
    "print(motif_sequences)"
   ]
  },
  {
   "cell_type": "code",
   "execution_count": 36,
   "metadata": {},
   "outputs": [
    {
     "name": "stdout",
     "output_type": "stream",
     "text": [
      "    Name   Motif  Score\n",
      "0   A1CF  TAATTA  0.172\n",
      "1   BOLL  TTTTTT  0.200\n",
      "2  CELF1  GTTTGT  0.101\n",
      "3  CNOT4  CACACA  0.127\n",
      "4  CPEB1  TTTTTA  0.323\n"
     ]
    }
   ],
   "source": [
    "# Create a long-format DataFrame\n",
    "long_format_data = []\n",
    "\n",
    "# Iterate through each row\n",
    "for _, row in df.iterrows():\n",
    "    for motif, score_col in zip(motif_names, score_columns):\n",
    "        motif_seq = row[motif]  # Extract motif sequence\n",
    "        score = row[score_col]  # Extract corresponding score\n",
    "        \n",
    "        # Append only valid (non-empty) motif-score pairs\n",
    "        if pd.notna(motif_seq) and pd.notna(score):\n",
    "            long_format_data.append([motif, motif_seq, score])\n",
    "\n",
    "# Convert the cleaned data into a DataFrame\n",
    "long_df = pd.DataFrame(long_format_data, columns=[\"Name\", \"Motif\", \"Score\"])\n",
    "\n",
    "# Save to CSV (optional)\n",
    "long_df.to_csv(\"RBP_6kmer_format.csv\", index=False)\n",
    "\n",
    "# Display first rows\n",
    "print(long_df.head())\n"
   ]
  },
  {
   "cell_type": "code",
   "execution_count": null,
   "metadata": {},
   "outputs": [],
   "source": []
  }
 ],
 "metadata": {
  "kernelspec": {
   "display_name": "python",
   "language": "python",
   "name": "python3"
  },
  "language_info": {
   "codemirror_mode": {
    "name": "ipython",
    "version": 3
   },
   "file_extension": ".py",
   "mimetype": "text/x-python",
   "name": "python",
   "nbconvert_exporter": "python",
   "pygments_lexer": "ipython3",
   "version": "3.12.0"
  }
 },
 "nbformat": 4,
 "nbformat_minor": 2
}
