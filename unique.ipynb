{
 "cells": [
  {
   "cell_type": "code",
   "execution_count": 1,
   "metadata": {},
   "outputs": [],
   "source": [
    "import pandas as pd\n",
    "\n",
    "# Load the data\n",
    "df = pd.read_csv(\"/home/yg2895/media/protein/yg2895/ASO-lib-20250102/counts-aso.csv\")  # Replace with the actual filename\n",
    "\n",
    "# Extract the gene name (before the first \"|\")\n",
    "df[\"Gene\"] = df[\"Name\"].str.split(\"|\").str[0]\n",
    "\n",
    "# Get unique gene names\n",
    "unique_genes = df[\"Gene\"].unique()\n",
    "\n",
    "# Print or save the unique genes\n",
    "# print(unique_genes)\n",
    "# Save to a file if needed\n",
    "pd.DataFrame(unique_genes, columns=[\"Gene\"]).to_csv(\"unique_genes.csv\", index=False)\n"
   ]
  },
  {
   "cell_type": "code",
   "execution_count": null,
   "metadata": {},
   "outputs": [],
   "source": []
  }
 ],
 "metadata": {
  "kernelspec": {
   "display_name": "python",
   "language": "python",
   "name": "python3"
  },
  "language_info": {
   "codemirror_mode": {
    "name": "ipython",
    "version": 3
   },
   "file_extension": ".py",
   "mimetype": "text/x-python",
   "name": "python",
   "nbconvert_exporter": "python",
   "pygments_lexer": "ipython3",
   "version": "3.12.5"
  }
 },
 "nbformat": 4,
 "nbformat_minor": 2
}
